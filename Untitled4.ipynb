{
  "nbformat": 4,
  "nbformat_minor": 0,
  "metadata": {
    "colab": {
      "provenance": [],
      "authorship_tag": "ABX9TyMq97sFOSrkTQGK4Iewimfx",
      "include_colab_link": true
    },
    "kernelspec": {
      "name": "python3",
      "display_name": "Python 3"
    },
    "language_info": {
      "name": "python"
    }
  },
  "cells": [
    {
      "cell_type": "markdown",
      "metadata": {
        "id": "view-in-github",
        "colab_type": "text"
      },
      "source": [
        "<a href=\"https://colab.research.google.com/github/hackmashine/boosting-a-random-forest/blob/main/Untitled4.ipynb\" target=\"_parent\"><img src=\"https://colab.research.google.com/assets/colab-badge.svg\" alt=\"Open In Colab\"/></a>"
      ]
    },
    {
      "cell_type": "code",
      "execution_count": null,
      "metadata": {
        "colab": {
          "base_uri": "https://localhost:8080/"
        },
        "id": "eizWkcy0BVXm",
        "outputId": "1bcbc9f8-8b66-4ae8-bf6e-ed2c7fda7102"
      },
      "outputs": [
        {
          "metadata": {
            "tags": null
          },
          "name": "stdout",
          "output_type": "stream",
          "text": [
            "Requirement already satisfied: xgboost in /usr/local/lib/python3.12/dist-packages (3.0.4)\n",
            "Requirement already satisfied: lightgbm in /usr/local/lib/python3.12/dist-packages (4.6.0)\n",
            "Requirement already satisfied: seaborn in /usr/local/lib/python3.12/dist-packages (0.13.2)\n",
            "Requirement already satisfied: joblib in /usr/local/lib/python3.12/dist-packages (1.5.1)\n",
            "Requirement already satisfied: numpy in /usr/local/lib/python3.12/dist-packages (from xgboost) (2.0.2)\n",
            "Requirement already satisfied: nvidia-nccl-cu12 in /usr/local/lib/python3.12/dist-packages (from xgboost) (2.27.3)\n",
            "Requirement already satisfied: scipy in /usr/local/lib/python3.12/dist-packages (from xgboost) (1.16.1)\n",
            "Requirement already satisfied: pandas>=1.2 in /usr/local/lib/python3.12/dist-packages (from seaborn) (2.2.2)\n",
            "Requirement already satisfied: matplotlib!=3.6.1,>=3.4 in /usr/local/lib/python3.12/dist-packages (from seaborn) (3.10.0)\n",
            "Requirement already satisfied: contourpy>=1.0.1 in /usr/local/lib/python3.12/dist-packages (from matplotlib!=3.6.1,>=3.4->seaborn) (1.3.3)\n",
            "Requirement already satisfied: cycler>=0.10 in /usr/local/lib/python3.12/dist-packages (from matplotlib!=3.6.1,>=3.4->seaborn) (0.12.1)\n",
            "Requirement already satisfied: fonttools>=4.22.0 in /usr/local/lib/python3.12/dist-packages (from matplotlib!=3.6.1,>=3.4->seaborn) (4.59.1)\n",
            "Requirement already satisfied: kiwisolver>=1.3.1 in /usr/local/lib/python3.12/dist-packages (from matplotlib!=3.6.1,>=3.4->seaborn) (1.4.9)\n",
            "Requirement already satisfied: packaging>=20.0 in /usr/local/lib/python3.12/dist-packages (from matplotlib!=3.6.1,>=3.4->seaborn) (25.0)\n",
            "Requirement already satisfied: pillow>=8 in /usr/local/lib/python3.12/dist-packages (from matplotlib!=3.6.1,>=3.4->seaborn) (11.3.0)\n",
            "Requirement already satisfied: pyparsing>=2.3.1 in /usr/local/lib/python3.12/dist-packages (from matplotlib!=3.6.1,>=3.4->seaborn) (3.2.3)\n",
            "Requirement already satisfied: python-dateutil>=2.7 in /usr/local/lib/python3.12/dist-packages (from matplotlib!=3.6.1,>=3.4->seaborn) (2.9.0.post0)\n",
            "Requirement already satisfied: pytz>=2020.1 in /usr/local/lib/python3.12/dist-packages (from pandas>=1.2->seaborn) (2025.2)\n",
            "Requirement already satisfied: tzdata>=2022.7 in /usr/local/lib/python3.12/dist-packages (from pandas>=1.2->seaborn) (2025.2)\n",
            "Requirement already satisfied: six>=1.5 in /usr/local/lib/python3.12/dist-packages (from python-dateutil>=2.7->matplotlib!=3.6.1,>=3.4->seaborn) (1.17.0)\n"
          ]
        }
      ],
      "source": [
        "!pip install xgboost lightgbm seaborn joblib\n",
        "\n",
        "import numpy as np, pandas as pd, matplotlib.pyplot as plt, seaborn as sns\n",
        "from sklearn.datasets import fetch_openml\n",
        "from sklearn.model_selection import train_test_split\n",
        "from sklearn.ensemble import RandomForestClassifier, ExtraTreesClassifier, GradientBoostingClassifier, StackingClassifier\n",
        "from sklearn.linear_model import LogisticRegression\n",
        "from sklearn.metrics import accuracy_score,f1_score,log_loss,classification_report,confusion_matrix,roc_auc_score\n",
        "from sklearn.preprocessing import LabelEncoder\n",
        "import joblib, random, os\n",
        "\n",
        "def set_seed(seed=42):\n",
        "    np.random.seed(seed); random.seed(seed)\n",
        "\n",
        "set_seed(42)\n",
        "\n",
        "d=fetch_openml(\"Fashion-MNIST\",version=1,as_frame=False)\n",
        "X=d[\"data\"].astype(np.float32); y=d[\"target\"].astype(str)\n",
        "le=LabelEncoder(); y=le.fit_transform(y)\n",
        "\n",
        "X_tr,X_te,y_tr,y_te=train_test_split(X,y,test_size=0.2,stratify=y,random_state=42)\n",
        "\n",
        "try:\n",
        "    import xgboost as xgb\n",
        "    xgbc=xgb.XGBClassifier(n_estimators=400,learning_rate=0.1,max_depth=6,\n",
        "                           subsample=0.9,colsample_bytree=0.9,\n",
        "                           objective=\"multi:softprob\",num_class=len(le.classes_),\n",
        "                           n_jobs=-1,tree_method=\"hist\")\n",
        "except:\n",
        "    xgbc=GradientBoostingClassifier()\n",
        "\n",
        "try:\n",
        "    import lightgbm as lgb\n",
        "    lgbm=lgb.LGBMClassifier(n_estimators=400,learning_rate=0.1,objective=\"multiclass\",\n",
        "                            num_class=len(le.classes_),subsample=0.9,colsample_bytree=0.9,n_jobs=-1)\n",
        "except:\n",
        "    lgbm=ExtraTreesClassifier(n_estimators=400,n_jobs=-1)\n",
        "\n",
        "rf=RandomForestClassifier(n_estimators=300,max_depth=20,n_jobs=-1)\n",
        "final=LogisticRegression(max_iter=500,multi_class=\"multinomial\")\n",
        "stack=StackingClassifier(estimators=[(\"rf\",rf),(\"xgb\",xgbc),(\"lgbm\",lgbm)],\n",
        "                         final_estimator=final,stack_method=\"predict_proba\",\n",
        "                         passthrough=False,cv=5,n_jobs=-1)\n",
        "\n",
        "stack.fit(X_tr,y_tr)\n",
        "proba=stack.predict_proba(X_te)\n",
        "pred=proba.argmax(1)\n",
        "\n",
        "acc=accuracy_score(y_te,pred)\n",
        "f1m=f1_score(y_te,pred,average=\"macro\")\n",
        "f1w=f1_score(y_te,pred,average=\"weighted\")\n",
        "ll=log_loss(y_te,proba,labels=list(range(len(le.classes_))))\n",
        "roc=roc_auc_score(y_te,proba,multi_class=\"ovo\",average=\"macro\",labels=list(range(len(le.classes_))))\n",
        "rep=classification_report(y_te,pred,zero_division=0)\n",
        "cm=confusion_matrix(y_te,pred,labels=list(range(len(le.classes_))))\n",
        "\n",
        "print(\"acc\",acc)\n",
        "print(\"f1_macro\",f1m)\n",
        "print(\"f1_weighted\",f1w)\n",
        "print(\"log_loss\",ll)\n",
        "print(\"roc_ovo_macro\",roc)\n",
        "print(rep)\n",
        "\n",
        "plt.figure(figsize=(8,6))\n",
        "sns.heatmap(cm,annot=False,cmap=\"Blues\")\n",
        "plt.show()\n",
        "\n",
        "from sklearn.metrics import RocCurveDisplay\n",
        "from sklearn.preprocessing import label_binarize\n",
        "y_bin=label_binarize(y_te,classes=list(range(len(le.classes_))))\n",
        "for i in range(len(le.classes_)):\n",
        "    RocCurveDisplay.from_predictions(y_bin[:,i],proba[:,i])\n",
        "plt.show()\n"
      ]
    }
  ]
}